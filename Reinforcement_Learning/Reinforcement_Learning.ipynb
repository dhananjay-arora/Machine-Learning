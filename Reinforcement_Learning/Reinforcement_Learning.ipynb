{
 "cells": [
  {
   "cell_type": "markdown",
   "metadata": {},
   "source": [
    "# Assignment #4 - Reinforcement Learning\n",
    "### DUE: Apr 16 (Tuesday) 11:00 pm \n",
    "### DHANANJAY ARORA"
   ]
  },
  {
   "cell_type": "markdown",
   "metadata": {},
   "source": [
    "# I. Overview"
   ]
  },
  {
   "cell_type": "markdown",
   "metadata": {},
   "source": [
    "Reinforcement learning (RL) is an area of machine learning concerned with how software agents ought to take actions in an environment so as to maximize some notion of cumulative reward. Reinforcement learning is considered as one of three machine learning paradigms, alongside supervised learning and unsupervised learning.\n",
    "\n",
    "Reinforcement learning requires clever exploration mechanisms. Randomly selecting actions, without reference to an estimated probability distribution, shows poor performance. However, due to the lack of algorithms that scale well with the number of states (or scale to problems with infinite state spaces), simple exploration methods are the most practical.\n",
    "\n",
    "The objective of this assignment is to learn more about reinforcement learning by implementing a reinforcement agent to play the Blackjack game. Implementation and its explanation is discussed below.\n",
    "\n",
    "- The objective of this assignment is to implement reinforcement learning to solve BlackJack problem using the best out of Q-learning or SARSA learning. \n",
    "- A relevant model for the problem is selected and implemented. \n",
    "- Experimenting this model with various parameters is done and corresponding results are plotted. \n",
    "- The ones which gives optimum output are selected and used for the final model training. \n",
    "- The results are plotted and necessary inferences are made."
   ]
  },
  {
   "cell_type": "markdown",
   "metadata": {},
   "source": [
    "# Methods\n",
    "\n",
    "### Review of the SARSA and Q-Learning\n",
    "\n",
    "- **State–action–reward–state–action (SARSA)** is an algorithm for learning a Markov decision process policy, used in the reinforcement learning area of machine learning.\n",
    "\n",
    "\n",
    "- **Q-learning** is a model-free reinforcement learning algorithm. \n",
    "- The goal of Q-learning is to learn a policy, which tells an agent what action to take under what circumstances. \n",
    "- It does not require a model (hence the connotation \"model-free\") of the environment, and it can handle problems with stochastic transitions and rewards, without requiring adaptations.\n",
    "\n",
    "\n",
    "- Both of these algorithms updates the values of the Q table.\n",
    "- The matrix for all the possibilities with particular actions are stored.\n",
    "\n",
    "\n",
    "- In Q-learning algorithm, if we start at first state, perform some action and get some reward, and then look what is the maximum reward for an action is in the next state, and uses it to update action value for performing the first action in the first state. In SARSA, we use the action that is taken in previous state.\n",
    "\n",
    "\n",
    "- In SARSA, at first we update Q. A certain behavior policy is followed and it is called on-policy control. \n",
    "Given below is the formula used to update Q in SARSA\n",
    "\n",
    "$$\n",
    "    Q(s_t, a_t) \\leftarrow Q(s_t, a_t) + \\alpha ( R_{t+1} + \\gamma Q(s_{t+1}, a_{t+1}) - Q(s_t, a_t)) \n",
    "$$\n",
    "\n",
    "- In Q-learning, we do not make assumption of behavior policy. Thus this is called as off-policy control. \n",
    "- Given below is the formula used to update Q in Q-learning\n",
    "\n",
    "$$\n",
    "    Q(s_t, a_t) \\leftarrow Q(s_t, a_t) + \\alpha ( R_{t+1} + \\gamma \\max_a Q(s_{t+1}, a) - Q(s_t, a_t)) \n",
    "$$\n",
    "\n",
    "- The major difference is that Q-learning uses the action with maximum reward to update the action value. \n",
    "In SARSA, at first an action is taken. "
   ]
  },
  {
   "cell_type": "markdown",
   "metadata": {},
   "source": [
    "### Choice of TD learning and Reason\n",
    "\n",
    "- I have chosen Q-learning algorithm for solving this problem because I want to use the updated values for the next iteration instead of using the same action, considering this action with maximum value would make us reach the goal faster.\n",
    "- Q Learning learns faster than SARSA.\n",
    "- Q- learning won't take much time to find the maximum win percentage as the number of computations are less.\n",
    "- Therefore, I inferred that Q learning would be the best algorithm for this problem.\n",
    "- Moreover, it gives more efficient result as it keeps on trying to enhance the win percentage."
   ]
  },
  {
   "cell_type": "markdown",
   "metadata": {},
   "source": [
    "### Choice of Function Approximation and Reason\n",
    "\n",
    "- There are several function approximation from which we can choose from, such as linear, tabular approximation and Neural Network Function Approximation.\n",
    "- I picked linear function approximation to solve BlackJack problem.\n",
    "- I have picked the linear because this function approximation is better for problems which have finite state and action space.\n",
    "- Moreover, the Monte Carlo method can be used to implement the approximation. \n",
    "- Moreover in Monte Carlo, we play an episode of the game, move epsilon-greedly through out the states till the end, record the states, actions and rewards that we encountered then compute the V(s) and Q(s) for each state we passed through.\n",
    "- We repeat this process by playing more episodes and after each episode we get the states, actions, and rewards and we average the values of the discovered V(s) and Q(s).\n",
    "- It learns optimal behavior directly from its interaction with the environment. Moreover, it does not require a model of the environment’s dynamics.\n",
    "\n",
    "References(https://danieltakeshi.github.io/2016/10/31/going-deeper-into-reinforcement-learning-understanding-q-learning-and-linear-function-approximation/ and http://papers.nips.cc/paper/1713-policy-gradient-methods-for-reinforcement-learning-with-function-approximation.pdf)"
   ]
  },
  {
   "cell_type": "markdown",
   "metadata": {},
   "source": [
    "# II. Problems \n",
    "\n",
    "\n",
    "\n",
    "## Blackjack\n",
    "\n",
    "<img src=\"https://upload.wikimedia.org/wikipedia/commons/a/a2/Blackjack_game_1.JPG\" width=800 />\n",
    "\n",
    "Now, we play Blackjack! \n",
    "We have improved version of it from OpenAI Gym [Blackjack-V0](https://gym.openai.com/envs/Blackjack-v0/). Our blackjack has an additional betting option. Here follows the rule description. "
   ]
  },
  {
   "cell_type": "markdown",
   "metadata": {},
   "source": [
    "\n",
    "### <font color=\"red\"> Game Introduction and Rules: </font>\n",
    "\n",
    "\n",
    "Blackjack is a card game where the goal is to obtain cards that sum to as\n",
    "near as possible to 21 without going over.  They're playing against a fixed\n",
    "dealer.\n",
    "\n",
    "Face cards (Jack, Queen, King) have point value 10.\n",
    "Aces can either count as 11 or 1, and it's called 'usable' at 11.\n",
    "This game is placed with an infinite deck (or with replacement).\n",
    "\n",
    "The game starts with each player getting two face up cards and dealer\n",
    "having one face up and face down card and the player needs to bet an \n",
    "amount of money within range of 1 to max bet (10). \n",
    "Note: Face up means that you will know what the card is.\n",
    "\n",
    "The player can request additional cards (hit=1) until they decide to stop\n",
    "(stick=0) or exceed 21 (bust).\n",
    "\n",
    "After the player sticks, the dealer reveals their facedown card, and draws\n",
    "until their sum is 17 or greater (fixed policy).  If the dealer goes bust the player wins.\n",
    "You won't see the dealer's facedown card, just you will know if you have or lost\n",
    "and you will get appropriate reward of +1 if you win, -1 if you loose or 0 if the match\n",
    "is drawn.\n",
    "(It is freedom of choice for you to change the reward function. If you want to change, you should explain the reason of the change.)\n",
    "\n",
    "If the player wins, the amount he has bet will be doubled and given back. \n",
    "If the player and dealer have the same sum, then its a draw and the player will get\n",
    "back the money he has bet. \n",
    "If the player loses then, the money he bet will be lost. \n",
    "If neither player nor dealer busts, the outcome (win, lose, draw) is\n",
    "decided by whose sum is closer to 21. You are free to change the reward function to make it \n",
    "learn more efficiently. (i.e.,  the amount of money the user is winning after each round). \n",
    "\n",
    "Regardless of the number of players on the table, each player will be just playing against the \n",
    "dealer independently of the other players."
   ]
  },
  {
   "cell_type": "markdown",
   "metadata": {},
   "source": [
    "## BlackJack Environment"
   ]
  },
  {
   "cell_type": "code",
   "execution_count": 1,
   "metadata": {},
   "outputs": [],
   "source": [
    "import collections\n",
    "import numpy as np\n",
    "import matplotlib.pyplot as plt\n",
    "%matplotlib inline\n",
    "import gym\n",
    "from gym import spaces\n",
    "from gym.utils import seeding\n",
    "from collections import defaultdict"
   ]
  },
  {
   "cell_type": "markdown",
   "metadata": {},
   "source": [
    "### Explanation of the code\n",
    "\n",
    "Below is the explanation of the code in the order in which each functionality is implemented:"
   ]
  },
  {
   "cell_type": "markdown",
   "metadata": {},
   "source": [
    "### Player class definition\n",
    "\n",
    "Player class defines an object for each BlackJack player with a given *unique* name. It has three attributes, the player's name, current cards in hand, and total balance left to play games.  <code>get_info()</code> is getter method that prints out all three attributes."
   ]
  },
  {
   "cell_type": "code",
   "execution_count": 2,
   "metadata": {},
   "outputs": [],
   "source": [
    "class Player():\n",
    "    \"\"\"\n",
    "        \n",
    "        Player class to create a player object.\n",
    "        eg: player = Player(\"player1\", start_balance = 10)\n",
    "        Above declaration will be for your agent.\n",
    "        All the player names should be unique or else you will get error.\n",
    "        \n",
    "    \"\"\"\n",
    "    def __init__(self, player_name, start_balance = 10):\n",
    "        self.player_name = player_name\n",
    "        self.card = []\n",
    "        self.starter_balance = start_balance\n",
    "        self.total_balance = start_balance\n",
    "\n",
    "    def recharge_account(self):\n",
    "        self.total_balance = self.starter_balance\n",
    "        \n",
    "    def get_info(self):\n",
    "        print(\"Player name: {}\".format(self.player_name))\n",
    "        print(\"Player card: {}\".format(self.card))\n",
    "        print(\"Player total_balance: {}\".format(self.total_balance))     "
   ]
  },
  {
   "cell_type": "markdown",
   "metadata": {},
   "source": [
    "# Blackjack (OpenAI Gym)\n",
    "\n",
    "### def cmp(a, b):\n",
    "\n",
    "Gives a positive value when a is greater than b and returns a negative value when b is greater than a \n",
    "\n",
    "### def draw_card(np_random):\n",
    "\n",
    "Generates a random card from the deck\n",
    "\n",
    "### def draw_hand(np_random):\n",
    "Generates two random cards. This is used at the beginning of the game\n",
    "\n",
    "### def usable_ace(hand):  # Does this hand have a usable ace?\n",
    "Verifies whether the player contains a usable_ace. i.e., Ace that can be used as 11.\n",
    "\n",
    "### def sum_hand(hand):\n",
    "Gives the sum of total cards of player\n",
    "\n",
    "### def is_bust(hand):\n",
    "Verifies whether the player has busted. i.e., whether the sum of hand greater than 21\n",
    "\n",
    "### def score(hand):  # What is the score of this hand (0 if bust)\n",
    "Returns sum of cards of a player if the sum is less than or equal to 21. Or else returns 0.    \n",
    "\n",
    "### def is_natural(hand):\n",
    "Verifies whether the player wins at the very beginning of the game (i.e., when he is assigned two cards)\n",
    "\n",
    "## class BlackjackEnv(gym.Env):\n",
    "### def __init__(self, natural=False):\n",
    "Creates memory based on number of actions with and possible cases and starts the first game. It even assigns natural variable which is used to verify a win without even taking an action.\n",
    "\n",
    "\n",
    "### def step(self, action):\n",
    "Move one step forward by selecting hit or stick. If hit is selected, we need to verify whether bust has occured and update done variable. Returns the observation, reward for the action and whether the game is completed or not.\n",
    "        \n",
    "\n",
    "### def _get_obs(self):\n",
    "Returns the particular observation with sum, dealr card and boolean value whether it is an usable ace\n",
    "        \n",
    "### def reset(self):\n",
    "Restart the game by assigning both the dealer and player with two cards\n"
   ]
  },
  {
   "cell_type": "code",
   "execution_count": 3,
   "metadata": {},
   "outputs": [],
   "source": [
    "# 1 = Ace, 2-10 = Number cards, Jack/Queen/King = 10\n",
    "deck = [1, 2, 3, 4, 5, 6, 7, 8, 9, 10, 10, 10, 10]\n",
    "\n",
    "def cmp(a, b):\n",
    "    return float(a > b) - float(a < b)\n",
    "\n",
    "def draw_card(np_random):\n",
    "    return int(np_random.choice(deck))\n",
    "\n",
    "def draw_hand(np_random):\n",
    "    return [draw_card(np_random), draw_card(np_random)]\n",
    "\n",
    "\n",
    "def usable_ace(hand):  # Does this hand have a usable ace?\n",
    "    return 1 in hand and sum(hand) + 10 <= 21\n",
    "\n",
    "\n",
    "def sum_hand(hand):  # Return current hand total\n",
    "    if usable_ace(hand):\n",
    "        return sum(hand) + 10\n",
    "    return sum(hand)\n",
    "\n",
    "\n",
    "def is_bust(hand):  # Is this hand a bust?\n",
    "    return sum_hand(hand) > 21\n",
    "\n",
    "\n",
    "def score(hand):  # What is the score of this hand (0 if bust)\n",
    "    return 0 if is_bust(hand) else sum_hand(hand)\n",
    "\n",
    "\n",
    "def is_natural(hand):  # Is this hand a natural blackjack?\n",
    "    return sorted(hand) == [1, 10]"
   ]
  },
  {
   "cell_type": "markdown",
   "metadata": {},
   "source": [
    "### Game Environment\n",
    "\n",
    "The Blackjack game environment is defined as follows. Inheriting, OpenAI.Gym.Env, it overrides the interfances to enable the interfaction with the same interfaces with other OpenAI Gym environments. \n",
    "\n",
    "These are important member functions to be used by you:\n",
    "1. add_player: You can add your player object with some initial amount of money\n",
    "\n",
    "2. step: you need to send the action using this function, actions are hit(1) or stand(0)\n",
    "        returns {'state': player info and dealer info (_get_obs), \n",
    "                 'reward': real-valued reward, \n",
    "                 'is_round_done': True/Fasle}\n",
    "3. _get_obs: returns the state of the env or required information you can use to build your agent. \n",
    "             eg: {'player_info':{'player_sum_card': sum of cards, \n",
    "                                 'player_card': list of cards, \n",
    "                                 'player_total_balance': real-valued number, \n",
    "                                 'usable_ace' : True/False}, \n",
    "                 'dealer_info': dealer's first card}\n",
    "4. init_round: will start a new round in the same game.\n",
    "        returns {'state': player info and dealer info (_get_obs)}\n",
    "          \n",
    "5. reset: will reset the whole game and you will being again with the initial balance you had started the player object.\n",
    "        returns nothing, will just reset the entire game.\n",
    "          \n",
    "6. bet_money: you can bet the amount using this method, takes in the money between (1, max_bet_cap). max_bet_cap is 10. \n",
    "        returns nothing."
   ]
  },
  {
   "cell_type": "markdown",
   "metadata": {},
   "source": [
    "Print statements are commented to make the notebook run faster. It can be uncommented if you want to check the results."
   ]
  },
  {
   "cell_type": "code",
   "execution_count": 4,
   "metadata": {},
   "outputs": [],
   "source": [
    "class BlackjackEnv(gym.Env):\n",
    "    \"\"\"\n",
    "    Simple blackjack environment\n",
    "    \n",
    "    Blackjack is a card game where the goal is to obtain cards that sum to as\n",
    "    near as possible to 21 without going over.  They're playing against a fixed\n",
    "    dealer.\n",
    "    Face cards (Jack, Queen, King) have point value 10.\n",
    "    Aces can either count as 11 or 1, and it's called 'usable' at 11.\n",
    "    This game is placed with an infinite deck (or with replacement).\n",
    "    The game starts with each (player and dealer) having one face up and one\n",
    "    face down card.\n",
    "    The player can request additional cards (hit=1) until they decide to stop\n",
    "    (stick=0) or exceed 21 (bust).\n",
    "    After the player sticks, the dealer reveals their facedown card, and draws\n",
    "    until their sum is 17 or greater.  If the dealer goes bust the player wins.\n",
    "    If neither player nor dealer busts, the outcome (win, lose, draw) is\n",
    "    decided by whose sum is closer to 21.  The reward for winning is +1,\n",
    "    drawing is 0, and losing is -1.\n",
    "    The observation is: the players current sum, players current card, players balance left, \n",
    "    the dealer's one showing card (1-10 where 1 is ace),\n",
    "    and whether or not the player holds a usable ace (0 or 1).\n",
    "    \n",
    "    Parameters\n",
    "    ==========\n",
    "    natural      boolean\n",
    "                 option for 50% more reward on natural blackjack \n",
    "    \n",
    "    \"\"\"\n",
    "    \n",
    "    def __init__(self, natural=False):\n",
    "        self.action_space = spaces.Discrete(2)\n",
    "        self.observation_space = spaces.Tuple((\n",
    "            spaces.Discrete(32),\n",
    "            spaces.Discrete(11),\n",
    "            spaces.Discrete(2)))\n",
    "        self.seed()\n",
    "        self.total_players = 1\n",
    "        self.players = {}\n",
    "        self.natural = natural\n",
    "        self.dealer = []\n",
    "        self.round_bet_info = {}\n",
    "        self.max_bet_cap = 10\n",
    "\n",
    "    def add_player(self, player_class):\n",
    "        if player_class not in self.players and len(self.players) < self.total_players:\n",
    "            self.players[player_class.player_name] = player_class\n",
    "        else:\n",
    "            raise Exception(\"Maximum number of player allowed: {}. You can increase the player count while initializing the environment\".format(len(self.players)))\n",
    "\n",
    "    def seed(self, seed=None):\n",
    "        self.np_random, seed = seeding.np_random(seed)\n",
    "        return [seed]\n",
    "\n",
    "    def step(self, player_name, action):\n",
    "        assert self.action_space.contains(action)\n",
    "        if action:  # hit: add a card to players hand and return\n",
    "            self.players[player_name].card.append(draw_card(self.np_random))\n",
    "            if is_bust(self.players[player_name].card):\n",
    "                done = True\n",
    "                reward = -1\n",
    "            else:\n",
    "                done = False\n",
    "                reward = 0\n",
    "        else:  # stick: play out the dealers hand, and score\n",
    "            done = True\n",
    "            while sum_hand(self.dealer) < 17:\n",
    "                self.dealer.append(draw_card(self.np_random))\n",
    "            reward = cmp(score(self.players[player_name].card), score(self.dealer))\n",
    "            if self.natural and is_natural(self.players[player_name].card) and reward == 1:\n",
    "                reward = 1.5\n",
    "        if done:\n",
    "            self.settle_balance(int(reward), player_name)\n",
    "        return {'state':self._get_obs(player_name), 'reward': reward, 'is_round_done': done}\n",
    "\n",
    "    def _get_obs(self, player_name):\n",
    "        return {'player_info':self.get_player_obs(player_name), \n",
    "                'dealer_info': self.dealer[0]}\n",
    "\n",
    "    def get_player_obs(self, player_name):\n",
    "        return {'player_sum_card':sum_hand(self.players[player_name].card), \n",
    "                'player_card':self.players[player_name].card, \n",
    "                'player_total_balance':self.players[player_name].total_balance, \n",
    "                'usable_ace' : usable_ace(self.players[player_name].card)}\n",
    "    \n",
    "    def get_valid_bet_amount(self, player_name):\n",
    "        #print(\"player name: {} money left: {}\".format(player_name, self.players[player_name].total_balance))\n",
    "        if self.players[player_name].total_balance < 1:\n",
    "            return {'is_round_done': True, 'valid_bet_amount': -1}\n",
    "        max_bet_upper_limit = self.players[player_name].total_balance\n",
    "        if self.players[player_name].total_balance >= self.max_bet_cap:\n",
    "            max_bet_upper_limit = self.max_bet_cap            \n",
    "        return {'is_round_done': False, 'valid_bet_amount': list(range(1, max_bet_upper_limit+1))}\n",
    "            \n",
    "    def init_round(self, player_name):         \n",
    "        self.dealer = draw_hand(self.np_random)\n",
    "        self.players[player_name].card = draw_hand(self.np_random)\n",
    "        return {'state': self._get_obs(player_name)}        \n",
    "\n",
    "    def bet_money(self, player_name, bet_amount):\n",
    "        self.players[player_name].total_balance -= bet_amount\n",
    "        self.round_bet_info[player_name] = bet_amount\n",
    "            \n",
    "    def settle_balance(self, is_winner, player_name):\n",
    "        if is_winner == 1:\n",
    "            #print(\"player winner\")\n",
    "            self.players[player_name].total_balance += (2 * self.round_bet_info[player_name])\n",
    "        elif is_winner == 0:\n",
    "            #print(\"Draw match\")\n",
    "            self.players[player_name].total_balance += self.round_bet_info[player_name]\n",
    "        #else:\n",
    "            #print(\"player loser, wont get back the money, try next round\")\n",
    "    \n",
    "    def reset(self, natural=False):\n",
    "        for player_name, player_class in self.players.items():\n",
    "            player_class.recharge_account()\n",
    "        self.natural = natural\n",
    "        self.dealer = []\n",
    "        self.round_bet_info = {}"
   ]
  },
  {
   "cell_type": "markdown",
   "metadata": {},
   "source": [
    "### Implementation of the selected approach (RLAgent)\n",
    "\n",
    "- def _init_(self, env): Initialise Q-Table\n",
    "\n",
    "- greedy(self, Q, state): Performs Greedy action selection\n",
    "\n",
    "- epsilon_greed(self, epsilon, state): Performs Epsilon greed function\n",
    "\n",
    "- sliceState(self,state): Split the state so that it can be used for updating Q-table. Also, maintaining the following things:\n",
    " - player card sum\n",
    " - dealer card info\n",
    " - usable ace \n",
    " to store in Q-table.\n",
    "\n",
    "- train(self,player1, **params): gamma, alpha, epsilon, maxiter, maxstep are the parameters and it returns rtrace and trace.\n",
    " - where maxIter is number of games and maxstep is the number of rounds.\n",
    "\n",
    "- test(self, maxiter): It returns rtrace, trace, Win Percentage = ((win*100)/rounds)\n",
    "\n",
    "Efficiency of the RL agent can be judged with the help of Win Percentage."
   ]
  },
  {
   "cell_type": "code",
   "execution_count": 5,
   "metadata": {},
   "outputs": [],
   "source": [
    "class RLAgent: \n",
    "    \"\"\"\n",
    "        Reinforcement Learning Agent Model for training/testing\n",
    "       using Q-Learning\n",
    "        \n",
    "    \"\"\"\n",
    "    \n",
    "    def __init__(self, env):\n",
    "        self.env = env\n",
    "        self.nA = env.action_space.n\n",
    "        self.Q = defaultdict(lambda: np.zeros(self.nA))\n",
    "    \n",
    "    \n",
    "    def greedy(self, Q, state):\n",
    "        return np.argmax(self.Q[state])  \n",
    "    \n",
    "    \n",
    "    def epsilon_greed(self, epsilon, state):\n",
    "        if np.random.rand() < epsilon:\n",
    "            return np.random.randint(self.nA)\n",
    "        else:\n",
    "            return self.greedy(self.Q, state)\n",
    "    \n",
    "    def sliceState(self,state):\n",
    "        state = tuple((state['player_info']['player_sum_card'], state['dealer_info'], state['player_info']['usable_ace']))\n",
    "        return state\n",
    "\n",
    "    def train(self,player1, **params):\n",
    "        \n",
    "        gamma = params.pop('gamma', 0.99)\n",
    "        alpha = params.pop('alpha', 0.1)\n",
    "        epsilon= params.pop('epsilon', 0.1)\n",
    "        maxiter= params.pop('maxiter', 1000) \n",
    "        maxstep= params.pop('maxstep', 1000) \n",
    "\n",
    "        #initialise rewards trace\n",
    "        rtrace = []\n",
    "        \n",
    "        for j in range(maxiter):\n",
    "            env.reset()\n",
    "            rewards = []\n",
    "            trace = []\n",
    "            \n",
    "            for step in range(maxstep): \n",
    "        \n",
    "                valid_bet_flag = env.get_valid_bet_amount(player1.player_name)\n",
    "                if valid_bet_flag['is_round_done']:\n",
    "                    break\n",
    "                bet_amount = valid_bet_flag['valid_bet_amount']\n",
    "\n",
    "                state = env.init_round(player1.player_name)\n",
    "                \n",
    "                state = self.sliceState(state['state'])\n",
    "\n",
    "                if len(bet_amount) == 1 and bet_amount[0] == 1:\n",
    "                    bet = 1\n",
    "                else:\n",
    "                    bet = np.random.choice(bet_amount)\n",
    "                    env.bet_money(player1.player_name, bet)\n",
    "\n",
    "                action = self.epsilon_greed(epsilon, state)\n",
    "                \n",
    "                while True:\n",
    "                    result = env.step(player1.player_name, action)\n",
    "                    \n",
    "                    next_state, reward, done = result['state'], result['reward'], result['is_round_done']\n",
    "                    next_state = self.sliceState(next_state)\n",
    "                    \n",
    "                    next_action = self.epsilon_greed(epsilon,next_state)\n",
    "                    trace.append(next_state)\n",
    "                    rewards.append(reward)\n",
    "\n",
    "                    self.Q[state][action] = self.Q[state][action] + ( alpha * ( (reward + (gamma * np.max(self.Q[next_state]))) - self.Q[state][action] ) )    \n",
    "                    \n",
    "                    state = next_state\n",
    "                    action = next_action\n",
    "                    if done:\n",
    "                        break\n",
    "\n",
    "            rtrace.append(np.sum(rewards))\n",
    "        return rtrace, trace\n",
    "\n",
    "    def test(self, maxiter=1000):\n",
    "        epsilon = 0\n",
    "        win = 0\n",
    "        lose = 0\n",
    "        draw = 0\n",
    "        rtrace = []\n",
    "        trace = []\n",
    "        rounds = 0\n",
    "        \n",
    "        for j in range(maxiter):         \n",
    "            env.reset()\n",
    "            \n",
    "            valid_bet_flag = env.get_valid_bet_amount(player1.player_name)\n",
    "            if valid_bet_flag['is_round_done']:\n",
    "                break\n",
    "            bet_amount = valid_bet_flag['valid_bet_amount']\n",
    "\n",
    "            state = env.init_round(player1.player_name)\n",
    "\n",
    "            state = self.sliceState(state['state'])\n",
    "\n",
    "            if len(bet_amount) == 1 and bet_amount[0] == 1:\n",
    "                bet = 1\n",
    "            else:\n",
    "                bet = np.random.choice(bet_amount)\n",
    "                env.bet_money(player1.player_name, bet)\n",
    "\n",
    "            action = self.epsilon_greed(epsilon, state)\n",
    "          \n",
    "            rewards = []\n",
    "            \n",
    "            while True :\n",
    "                result = env.step(player1.player_name, action)\n",
    "                \n",
    "                next_state, reward, done = result['state'], result['reward'], result['is_round_done']\n",
    "                next_state = self.sliceState(next_state)\n",
    "                next_action = self.epsilon_greed(epsilon,next_state)\n",
    "                trace.append(next_state)\n",
    "                rewards.append(reward)\n",
    "\n",
    "                state = next_state\n",
    "                action = next_action\n",
    "                rounds += 1\n",
    "\n",
    "                if(reward>0):\n",
    "                    win = win + 1\n",
    "                elif(reward<0):\n",
    "                    lose = lose + 1\n",
    "                else:\n",
    "                    draw = draw + 1\n",
    "\n",
    "                if done:\n",
    "                    break\n",
    "                    \n",
    "            rtrace.append(np.sum(rewards))\n",
    "        \n",
    "          \n",
    "        return rtrace, trace,  ((win*100)/rounds)"
   ]
  },
  {
   "cell_type": "markdown",
   "metadata": {},
   "source": [
    "Training the agent"
   ]
  },
  {
   "cell_type": "code",
   "execution_count": 6,
   "metadata": {},
   "outputs": [],
   "source": [
    "env = BlackjackEnv()\n",
    "player1 = Player('Dhananjay')\n",
    "env.add_player(player1)\n",
    "agent =  RLAgent(env)\n",
    "\n",
    "rtrace, trace = agent.train(player1)"
   ]
  },
  {
   "cell_type": "markdown",
   "metadata": {},
   "source": [
    "Testing the agent"
   ]
  },
  {
   "cell_type": "code",
   "execution_count": 7,
   "metadata": {},
   "outputs": [],
   "source": [
    "rtrace_test, trace_test, win = agent.test()"
   ]
  },
  {
   "cell_type": "markdown",
   "metadata": {},
   "source": [
    "Below is the Winning Percentage"
   ]
  },
  {
   "cell_type": "code",
   "execution_count": 8,
   "metadata": {},
   "outputs": [
    {
     "name": "stdout",
     "output_type": "stream",
     "text": [
      "22.388059701492537\n"
     ]
    }
   ],
   "source": [
    "print(win)"
   ]
  },
  {
   "cell_type": "markdown",
   "metadata": {},
   "source": [
    "# IV - Results\n",
    "\n",
    "Trying out different parameter combination and printing the win percentage and plots accordingly.\n",
    "\n",
    "### Experimental outputs that show the choice of parameters and Output plots are as below:\n",
    "\n",
    "- Tried alpha values as 0.001,0.01,0.1,0.2,0.4,0.5,0.6,0.7,0.8,1\n",
    "- Tried gamma values as 0.001,0.01,0.1,0.2,0.4,0.5,0.6,0.7,0.8,1\n",
    "- Tried epsilon values as 0.001,0.01,0.1,0.2,0.4,0.5,0.6,0.7,0.8,1\n",
    "- Tried maxiter values as 100,200,300,400,500,600,700,1000,2000,3000\n",
    "- Tried maxstep values as 100,200,300,400,500,600,700,1000,2000,3000\n",
    "\n",
    "\n",
    "**I will choose the best parameters by running experiments out of Alpha, Gamma, Epsilon, Maxiter and MaxStep.**"
   ]
  },
  {
   "cell_type": "code",
   "execution_count": 9,
   "metadata": {},
   "outputs": [
    {
     "name": "stdout",
     "output_type": "stream",
     "text": [
      "Alpha: 0.001\tWin Percentage: 27.391874180865006\n",
      "Alpha: 0.01\tWin Percentage: 22.89156626506024\n",
      "Alpha: 0.1\tWin Percentage: 23.926380368098158\n",
      "Alpha: 0.2\tWin Percentage: 25.82908163265306\n",
      "Alpha: 0.4\tWin Percentage: 26.666666666666668\n",
      "Alpha: 0.5\tWin Percentage: 30.19607843137255\n",
      "Alpha: 0.6\tWin Percentage: 29.352850539291218\n",
      "Alpha: 0.7\tWin Percentage: 30.857142857142858\n",
      "Alpha: 0.8\tWin Percentage: 31.114808652246257\n",
      "Alpha: 1\tWin Percentage: 30.23634881825591\n"
     ]
    }
   ],
   "source": [
    "no_of_cases = [0.001,0.01,0.1,0.2,0.4,0.5,0.6,0.7,0.8,1]\n",
    "wins = []\n",
    "alpha = []\n",
    "\n",
    "env_alpha = BlackjackEnv()\n",
    "player1_alpha = Player('Dhananjay')\n",
    "env_alpha.add_player(player1_alpha)\n",
    "agent_alpha = RLAgent(env_alpha)\n",
    "\n",
    "for i in range(len(no_of_cases)):\n",
    "    rtrace,trace = agent_alpha.train(player1_alpha, alpha=no_of_cases[i])  \n",
    "    rtrace_test, trace_test, win = agent_alpha.test()\n",
    "    \n",
    "    wins.append(win)\n",
    "    alpha.append(no_of_cases[i])\n",
    "    print(\"Alpha: \"+str(no_of_cases[i])+\"\\tWin Percentage: \"+str(win))"
   ]
  },
  {
   "cell_type": "code",
   "execution_count": 10,
   "metadata": {},
   "outputs": [],
   "source": [
    "alpha_cases = no_of_cases\n",
    "alpha_wins = wins"
   ]
  },
  {
   "cell_type": "code",
   "execution_count": 11,
   "metadata": {},
   "outputs": [
    {
     "data": {
      "image/png": "[encoded data removed]",
      "text/plain": [
       "<Figure size 432x288 with 1 Axes>"
      ]
     },
     "metadata": {
      "needs_background": "light"
     },
     "output_type": "display_data"
    }
   ],
   "source": [
    "plt.xlabel(\"Alpha\")\n",
    "plt.ylabel(\"Win Percentage\")\n",
    "for i in range(10):\n",
    "    plt.scatter(alpha_cases[i],alpha_wins[i])"
   ]
  },
  {
   "cell_type": "code",
   "execution_count": 12,
   "metadata": {},
   "outputs": [
    {
     "data": {
      "text/plain": [
       "[<matplotlib.lines.Line2D at 0x23cf3bae668>]"
      ]
     },
     "execution_count": 12,
     "metadata": {},
     "output_type": "execute_result"
    },
    {
     "data": {
      "image/png": "[encoded data removed]",
      "text/plain": [
       "<Figure size 432x288 with 1 Axes>"
      ]
     },
     "metadata": {
      "needs_background": "light"
     },
     "output_type": "display_data"
    }
   ],
   "source": [
    "plt.xlabel(\"Alpha\")\n",
    "plt.ylabel(\"Win Percentage\")\n",
    "plt.plot(alpha_cases,alpha_wins)"
   ]
  },
  {
   "cell_type": "code",
   "execution_count": 13,
   "metadata": {},
   "outputs": [
    {
     "name": "stdout",
     "output_type": "stream",
     "text": [
      "Gamma: 0.001\tWin Percentage: 25.334182049649904\n",
      "Gamma: 0.01\tWin Percentage: 28.21497120921305\n",
      "Gamma: 0.1\tWin Percentage: 24.44973230220107\n",
      "Gamma: 0.2\tWin Percentage: 25.342058298631766\n",
      "Gamma: 0.4\tWin Percentage: 23.49537037037037\n",
      "Gamma: 0.5\tWin Percentage: 23.563892145369284\n",
      "Gamma: 0.6\tWin Percentage: 24.178549287042777\n",
      "Gamma: 0.7\tWin Percentage: 23.229291716686674\n",
      "Gamma: 0.8\tWin Percentage: 23.273360417875796\n",
      "Gamma: 1\tWin Percentage: 22.899408284023668\n"
     ]
    }
   ],
   "source": [
    "no_of_cases = [0.001,0.01,0.1,0.2,0.4,0.5,0.6,0.7,0.8,1]\n",
    "wins = []\n",
    "gamma = []\n",
    "\n",
    "env_gamma = BlackjackEnv()\n",
    "player1_gamma = Player('Dhananjay')\n",
    "env_gamma.add_player(player1_gamma)\n",
    "agent_gamma = RLAgent(env_gamma)\n",
    "\n",
    "for i in range(len(no_of_cases)):\n",
    "    rtrace,trace = agent_gamma.train(player1_gamma, gamma=no_of_cases[i])  \n",
    "    rtrace_test, trace_test, win = agent_gamma.test()\n",
    "    \n",
    "    wins.append(win)\n",
    "    gamma.append(no_of_cases[i])\n",
    "    print(\"Gamma: \"+str(no_of_cases[i])+\"\\tWin Percentage: \"+str(win))"
   ]
  },
  {
   "cell_type": "code",
   "execution_count": 14,
   "metadata": {},
   "outputs": [],
   "source": [
    "gamma_cases = no_of_cases\n",
    "gamma_wins = wins"
   ]
  },
  {
   "cell_type": "code",
   "execution_count": 15,
   "metadata": {},
   "outputs": [
    {
     "data": {
      "image/png": "[encoded data removed]",
      "text/plain": [
       "<Figure size 432x288 with 1 Axes>"
      ]
     },
     "metadata": {
      "needs_background": "light"
     },
     "output_type": "display_data"
    }
   ],
   "source": [
    "plt.xlabel(\"Gamma\")\n",
    "plt.ylabel(\"Win Percentage\")\n",
    "for i in range(10):\n",
    "    plt.scatter(gamma_cases[i],gamma_wins[i])"
   ]
  },
  {
   "cell_type": "code",
   "execution_count": 16,
   "metadata": {},
   "outputs": [
    {
     "data": {
      "text/plain": [
       "[<matplotlib.lines.Line2D at 0x23cf3cb6cc0>]"
      ]
     },
     "execution_count": 16,
     "metadata": {},
     "output_type": "execute_result"
    },
    {
     "data": {
      "image/png": "[encoded data removed]",
      "text/plain": [
       "<Figure size 432x288 with 1 Axes>"
      ]
     },
     "metadata": {
      "needs_background": "light"
     },
     "output_type": "display_data"
    }
   ],
   "source": [
    "plt.xlabel(\"Gamma\")\n",
    "plt.ylabel(\"Win Percentage\")\n",
    "plt.plot(gamma_cases,gamma_wins)"
   ]
  },
  {
   "cell_type": "code",
   "execution_count": 17,
   "metadata": {},
   "outputs": [
    {
     "name": "stdout",
     "output_type": "stream",
     "text": [
      "epsilon: 0.001\tWin Percentage: 22.580645161290324\n",
      "epsilon: 0.01\tWin Percentage: 21.746575342465754\n",
      "epsilon: 0.1\tWin Percentage: 23.682579045257285\n",
      "epsilon: 0.2\tWin Percentage: 26.170798898071624\n",
      "epsilon: 0.4\tWin Percentage: 28.140013726835964\n",
      "epsilon: 0.5\tWin Percentage: 25.910931174089068\n",
      "epsilon: 0.6\tWin Percentage: 27.822878228782287\n",
      "epsilon: 0.7\tWin Percentage: 29.499626587005228\n",
      "epsilon: 0.8\tWin Percentage: 26.890156918687588\n",
      "epsilon: 1\tWin Percentage: 29.424778761061948\n"
     ]
    }
   ],
   "source": [
    "no_of_cases = [0.001,0.01,0.1,0.2,0.4,0.5,0.6,0.7,0.8,1]\n",
    "wins = []\n",
    "epsilon = []\n",
    "\n",
    "env_epsilon = BlackjackEnv()\n",
    "player1_epsilon = Player('Dhananjay')\n",
    "env_epsilon.add_player(player1_epsilon)\n",
    "agent_epsilon = RLAgent(env_epsilon)\n",
    "\n",
    "for i in range(len(no_of_cases)):\n",
    "    rtrace,trace = agent_epsilon.train(player1_epsilon, epsilon=no_of_cases[i])  \n",
    "    rtrace_test, trace_test, win = agent_epsilon.test()\n",
    "    \n",
    "    wins.append(win)\n",
    "    epsilon.append(no_of_cases[i])\n",
    "    print(\"epsilon: \"+str(no_of_cases[i])+\"\\tWin Percentage: \"+str(win))"
   ]
  },
  {
   "cell_type": "code",
   "execution_count": 18,
   "metadata": {},
   "outputs": [],
   "source": [
    "epsilon_cases = no_of_cases\n",
    "epsilon_wins = wins"
   ]
  },
  {
   "cell_type": "code",
   "execution_count": 19,
   "metadata": {},
   "outputs": [
    {
     "data": {
      "text/plain": [
       "[<matplotlib.lines.Line2D at 0x23cf3d242e8>]"
      ]
     },
     "execution_count": 19,
     "metadata": {},
     "output_type": "execute_result"
    },
    {
     "data": {
      "image/png": "[encoded data removed]",
      "text/plain": [
       "<Figure size 432x288 with 1 Axes>"
      ]
     },
     "metadata": {
      "needs_background": "light"
     },
     "output_type": "display_data"
    }
   ],
   "source": [
    "plt.xlabel(\"Epsilon\")\n",
    "plt.ylabel(\"Win Percentage\")\n",
    "plt.plot(epsilon_cases,epsilon_wins)"
   ]
  },
  {
   "cell_type": "code",
   "execution_count": 20,
   "metadata": {},
   "outputs": [
    {
     "data": {
      "image/png": "[encoded data removed]",
      "text/plain": [
       "<Figure size 432x288 with 1 Axes>"
      ]
     },
     "metadata": {
      "needs_background": "light"
     },
     "output_type": "display_data"
    }
   ],
   "source": [
    "plt.xlabel(\"Epsilon\")\n",
    "plt.ylabel(\"Win Percentage\")\n",
    "for i in range(10):\n",
    "    plt.scatter(epsilon_cases[i],epsilon_wins[i])"
   ]
  },
  {
   "cell_type": "code",
   "execution_count": 21,
   "metadata": {},
   "outputs": [
    {
     "name": "stdout",
     "output_type": "stream",
     "text": [
      "maxiter: 100\tWin Percentage: 25.74385510996119\n",
      "maxiter: 200\tWin Percentage: 22.61761158021713\n",
      "maxiter: 300\tWin Percentage: 20.69954128440367\n",
      "maxiter: 400\tWin Percentage: 19.460390355912743\n",
      "maxiter: 500\tWin Percentage: 22.164651698330456\n",
      "maxiter: 600\tWin Percentage: 24.833029751062536\n",
      "maxiter: 700\tWin Percentage: 25.078173858661664\n",
      "maxiter: 1000\tWin Percentage: 22.93577981651376\n",
      "maxiter: 2000\tWin Percentage: 26.4426125554851\n",
      "maxiter: 3000\tWin Percentage: 25.703324808184142\n"
     ]
    }
   ],
   "source": [
    "no_of_cases = [100,200,300,400,500,600,700,1000,2000,3000]\n",
    "wins = []\n",
    "maxiter = []\n",
    "\n",
    "env_maxiter = BlackjackEnv()\n",
    "player1_maxiter = Player('Dhananjay')\n",
    "env_maxiter.add_player(player1_maxiter)\n",
    "agent_maxiter = RLAgent(env_maxiter)\n",
    "\n",
    "for i in range(len(no_of_cases)):\n",
    "    rtrace,trace = agent_maxiter.train(player1_maxiter, maxiter=no_of_cases[i])  \n",
    "    rtrace_test, trace_test, win = agent_maxiter.test()\n",
    "    \n",
    "    wins.append(win)\n",
    "    maxiter.append(no_of_cases[i])\n",
    "    print(\"maxiter: \"+str(no_of_cases[i])+\"\\tWin Percentage: \"+str(win))"
   ]
  },
  {
   "cell_type": "code",
   "execution_count": 22,
   "metadata": {},
   "outputs": [],
   "source": [
    "maxiter_cases = no_of_cases\n",
    "maxiter_wins = wins"
   ]
  },
  {
   "cell_type": "code",
   "execution_count": 23,
   "metadata": {},
   "outputs": [
    {
     "data": {
      "image/png": "[encoded data removed]",
      "text/plain": [
       "<Figure size 432x288 with 1 Axes>"
      ]
     },
     "metadata": {
      "needs_background": "light"
     },
     "output_type": "display_data"
    }
   ],
   "source": [
    "plt.xlabel(\"Maxiter\")\n",
    "plt.ylabel(\"Win Percentage\")\n",
    "for i in range(10):\n",
    "    plt.scatter(maxiter_cases[i],maxiter_wins[i])"
   ]
  },
  {
   "cell_type": "code",
   "execution_count": 24,
   "metadata": {},
   "outputs": [
    {
     "data": {
      "text/plain": [
       "[<matplotlib.lines.Line2D at 0x23cf3e8a470>]"
      ]
     },
     "execution_count": 24,
     "metadata": {},
     "output_type": "execute_result"
    },
    {
     "data": {
      "image/png": "[encoded data removed]",
      "text/plain": [
       "<Figure size 432x288 with 1 Axes>"
      ]
     },
     "metadata": {
      "needs_background": "light"
     },
     "output_type": "display_data"
    }
   ],
   "source": [
    "plt.xlabel(\"Maxiter\")\n",
    "plt.ylabel(\"Win Percentage\")\n",
    "plt.plot(maxiter_cases,maxiter_wins)"
   ]
  },
  {
   "cell_type": "code",
   "execution_count": 25,
   "metadata": {},
   "outputs": [
    {
     "name": "stdout",
     "output_type": "stream",
     "text": [
      "MaxStep: 100\tWin Percentage: 20.141342756183747\n",
      "MaxStep: 200\tWin Percentage: 21.009389671361504\n",
      "MaxStep: 300\tWin Percentage: 25.40106951871658\n",
      "MaxStep: 400\tWin Percentage: 27.02156334231806\n",
      "MaxStep: 500\tWin Percentage: 24.48849104859335\n",
      "MaxStep: 600\tWin Percentage: 27.272727272727273\n",
      "MaxStep: 700\tWin Percentage: 24.333116460637605\n",
      "MaxStep: 1000\tWin Percentage: 23.581336696090794\n",
      "MaxStep: 2000\tWin Percentage: 25.473546701502286\n",
      "MaxStep: 3000\tWin Percentage: 24.173027989821882\n"
     ]
    }
   ],
   "source": [
    "no_of_cases = [100,200,300,400,500,600,700,1000,2000,3000]\n",
    "wins = []\n",
    "maxstep = []\n",
    "\n",
    "env_maxstep = BlackjackEnv()\n",
    "player1_maxstep = Player('Dhananjay')\n",
    "env_maxstep.add_player(player1_maxstep)\n",
    "agent_maxstep = RLAgent(env_maxstep)\n",
    "\n",
    "for i in range(len(no_of_cases)):\n",
    "    rtrace,trace = agent_maxstep.train(player1_maxstep, maxstep=no_of_cases[i])  \n",
    "    rtrace_test, trace_test, win = agent_maxstep.test()\n",
    "    \n",
    "    wins.append(win)\n",
    "    maxstep.append(no_of_cases[i])\n",
    "    print(\"MaxStep: \"+str(no_of_cases[i])+\"\\tWin Percentage: \"+str(win))"
   ]
  },
  {
   "cell_type": "code",
   "execution_count": 26,
   "metadata": {},
   "outputs": [],
   "source": [
    "maxstep_cases = no_of_cases\n",
    "maxstep_wins = wins"
   ]
  },
  {
   "cell_type": "code",
   "execution_count": 27,
   "metadata": {},
   "outputs": [
    {
     "data": {
      "image/png": "[encoded data removed]",
      "text/plain": [
       "<Figure size 432x288 with 1 Axes>"
      ]
     },
     "metadata": {
      "needs_background": "light"
     },
     "output_type": "display_data"
    }
   ],
   "source": [
    "plt.xlabel(\"MaxStep\")\n",
    "plt.ylabel(\"Win Percentage\")\n",
    "for i in range(10):\n",
    "    plt.scatter(maxstep_cases[i],maxstep_wins[i])"
   ]
  },
  {
   "cell_type": "code",
   "execution_count": 28,
   "metadata": {},
   "outputs": [
    {
     "data": {
      "text/plain": [
       "[<matplotlib.lines.Line2D at 0x23cf3f662b0>]"
      ]
     },
     "execution_count": 28,
     "metadata": {},
     "output_type": "execute_result"
    },
    {
     "data": {
      "image/png": "[encoded data removed]",
      "text/plain": [
       "<Figure size 432x288 with 1 Axes>"
      ]
     },
     "metadata": {
      "needs_background": "light"
     },
     "output_type": "display_data"
    }
   ],
   "source": [
    "plt.xlabel(\"MaxStep\")\n",
    "plt.ylabel(\"Win Percentage\")\n",
    "plt.plot(maxstep_cases,maxstep_wins)"
   ]
  },
  {
   "cell_type": "code",
   "execution_count": 35,
   "metadata": {},
   "outputs": [
    {
     "data": {
      "text/plain": [
       "<matplotlib.legend.Legend at 0x23cf3d72ef0>"
      ]
     },
     "execution_count": 35,
     "metadata": {},
     "output_type": "execute_result"
    },
    {
     "data": {
      "image/png": "[encoded data removed]",
      "text/plain": [
       "<Figure size 432x288 with 1 Axes>"
      ]
     },
     "metadata": {
      "needs_background": "light"
     },
     "output_type": "display_data"
    }
   ],
   "source": [
    "plt.ylabel(\"Win Percentage\")\n",
    "plt.xlabel(\"Different Parameters\")\n",
    "plt.plot(alpha_cases,alpha_wins,label=\"alpha\")\n",
    "plt.plot(gamma_cases,gamma_wins,label=\"gamma\")\n",
    "plt.plot(epsilon_cases,epsilon_wins,label=\"epsilon\")\n",
    "plt.legend()"
   ]
  },
  {
   "cell_type": "code",
   "execution_count": 36,
   "metadata": {},
   "outputs": [
    {
     "data": {
      "text/plain": [
       "<matplotlib.legend.Legend at 0x23cf3e05630>"
      ]
     },
     "execution_count": 36,
     "metadata": {},
     "output_type": "execute_result"
    },
    {
     "data": {
      "image/png": "[encoded data removed]",
      "text/plain": [
       "<Figure size 432x288 with 1 Axes>"
      ]
     },
     "metadata": {
      "needs_background": "light"
     },
     "output_type": "display_data"
    }
   ],
   "source": [
    "plt.ylabel(\"Win Percentage\")\n",
    "plt.xlabel(\"Different Parameters\")\n",
    "plt.plot(maxiter_cases,maxiter_wins,label=\"maxiter\")\n",
    "plt.plot(maxstep_cases,maxstep_wins,label=\"maxstep\")\n",
    "plt.legend()"
   ]
  },
  {
   "cell_type": "markdown",
   "metadata": {},
   "source": [
    "**Reporting the selected parameters**\n",
    "\n",
    "Below is the list of best win percentage along with the parameters:\n",
    "<table>\n",
    "    <tr>\n",
    "        <td>Alpha: 0.7</td>\t\n",
    "        <td>Win Percentage: 30.85</td>\n",
    "    </tr>\n",
    "    <tr>\n",
    "        <td>Gamma: 0.01</td>\t\n",
    "        <td>Win Percentage: 28.21</td>\n",
    "    </tr>\n",
    "    <tr>\n",
    "        <td>Epsilon: 0.7</td>\t\n",
    "        <td>Win Percentage: 29.49</td>\n",
    "    </tr>\n",
    "    <tr>\n",
    "        <td>Maxiter: 100</td>\t\n",
    "        <td>Win Percentage: 25.74</td>\n",
    "    </tr>\n",
    "    <tr>\n",
    "        <td>MaxStep: 600</td>\t\n",
    "        <td>Win Percentage: 27.27</td>\n",
    "    </tr>\n",
    "</table>\n",
    "\n",
    "Chose the parameters and extracted the best value from all. So, final values are above.\n",
    "- Alpha and Epsilon performed best when value was 0.7\n",
    "- Maxiter should be 100 and maxstep should be 600.\n",
    "- Gamma value should be 0.01"
   ]
  },
  {
   "cell_type": "markdown",
   "metadata": {},
   "source": [
    "## Below is the final combination of best parameter values and the win percentage"
   ]
  },
  {
   "cell_type": "code",
   "execution_count": 53,
   "metadata": {},
   "outputs": [],
   "source": [
    "env_final = BlackjackEnv()\n",
    "player1f = Player('Dhananjay')\n",
    "env_final.add_player(player1f)\n",
    "agent_final =  RLAgent(env)"
   ]
  },
  {
   "cell_type": "markdown",
   "metadata": {},
   "source": [
    "Training and testing the RL agent for final time as below."
   ]
  },
  {
   "cell_type": "code",
   "execution_count": 54,
   "metadata": {},
   "outputs": [],
   "source": [
    "rtrace_final, trace_final = agent_final.train(player1, alpha = 0.7, gamma = 0.01, epsilon = 0.7, maxiter= 100, maxstep = 600)\n",
    "rtrace_test_final, trace_test_final, win_final = agent_final.test()"
   ]
  },
  {
   "cell_type": "markdown",
   "metadata": {},
   "source": [
    "The final Win Percentage came out to be 29.31, seen as below:"
   ]
  },
  {
   "cell_type": "code",
   "execution_count": 55,
   "metadata": {},
   "outputs": [
    {
     "name": "stdout",
     "output_type": "stream",
     "text": [
      "29.31286549707602\n"
     ]
    }
   ],
   "source": [
    "print(win_final)"
   ]
  },
  {
   "cell_type": "markdown",
   "metadata": {},
   "source": [
    "Graph has already been plotted above.\n",
    "\n",
    "### Reading and analysis of learning results and plots\n",
    "\n",
    "- Overall, win percentage with respect to Alpha value increases as we go from 0 to 1.\n",
    "- Highest win percentage with respect to Alpha value(0.7) is 30.85\n",
    "- Overall, win percentage with respect to Gamma value decreases as we go from 0 to 1.\n",
    "- Highest win percentage with respect to Gamma value(0.01) is 28.21\n",
    "- Overall, win percentage with respect to Epsilon value increases as we go from 0 to 1.\n",
    "- Highest win percentage with respect to Epsilon value(0.7) is 29.49\n",
    "- Overall, win percentage with respect to Maxiter value increases as well as decreases as we go from 100 to 3000.\n",
    "- Highest win percentage with respect to Maxiter value(100) is 25.74\n",
    "- Overall, win percentage with respect to MaxStep value increases as well as decreases as we go from 100 to 3000.\n",
    "- Highest win percentage with respect to MaxStep value(600) is 27.27\n",
    "\n",
    "On the basis of above observations, we have chosen the best parameter values and this justifies the overall performance of the RL agent."
   ]
  },
  {
   "cell_type": "markdown",
   "metadata": {},
   "source": [
    "# Participation to the tournament.\n",
    "\n",
    "I will participate in the tournament and will compete in class."
   ]
  },
  {
   "cell_type": "markdown",
   "metadata": {},
   "source": [
    "# V. Conclusions\n",
    "\n",
    "- Reinforcement learning is a type of Machine Learning algorithms which allows software agents and machines to automatically determine the ideal behavior within a specific context, to maximize its performance.\n",
    "- Reinforcement algorithms are not given explicit goals; instead, they are forced to learn these optimal goals by trial and error. \n",
    "- I would like to conclude by stating that it is a very interesting assignment.\n",
    "- I learned how to create a RL agent.\n",
    "- Tried 5 different parameters and got the different results.\n",
    "- Assignment was completed successfully.\n",
    "\n",
    "**Suggestion:**\n",
    "This is a tough assignment and should have some less writing part. It is very exhausting but got to learn several things."
   ]
  },
  {
   "cell_type": "markdown",
   "metadata": {},
   "source": [
    "# REFERENCES\n",
    "\n",
    "[1] Ian Goodfellow and Yoshua Bengio and Aaron Courville. \"Deep Learning\", MIT Press, 2016, http://www.deeplearningbook.org\n",
    "\n",
    "[2] \"Reinforcement learning”: From Wikipedia, the free encyclopedia, from https://en.wikipedia.org/wiki/Reinforcement_learning\n",
    "\n",
    "[3] Hunter, J. D. \"Matplotlib: A 2D graphics environment\",Computing In Science & Engineering, IEEE COMPUTER SOC, 9, 90-95 (2007), https://matplotlib.org/tutorials/introductory/sample_plots.html\n",
    "\n",
    "[4] Travis E, Oliphant. A guide to NumPy, USA: Trelgol Publishing, (2006), http://www.numpy.org/\n",
    "\n",
    "[5] Wes McKinney. Data Structures for Statistical Computing in Python, Proceedings of the 9th Python in Science Conference, 51-56 (2010), http://pandas.pydata.org/pandas-docs/version/0.15.2/generated/pandas.DataFrame.replace.html\n",
    "\n",
    "[6] DanB, \"Handling Missing Values\", Kaggle, Data Repository, https://www.kaggle.com/dansbecker/handling-missing-values\n",
    "\n",
    "[7] \"SARSA”: From Wikipedia, the free encyclopedia, from https://en.wikipedia.org/wiki/State%E2%80%93action%E2%80%93reward%E2%80%93state%E2%80%93action\n",
    "\n",
    "[8] \"Q-learning”: From Wikipedia, the free encyclopedia, from https://en.wikipedia.org/wiki/Q-learning\n",
    "\n",
    "[9] Mohammed Sunasra, \"Performance Metrics for Classification problems in Machine Learning\", Thalus, Medium(2017), https://medium.com/thalus-ai/performance-metrics-for-classification-problems-in-machine-learning-part-i-b085d432082b"
   ]
  }
 ],
 "metadata": {
  "kernelspec": {
   "display_name": "Python 3",
   "language": "python",
   "name": "python3"
  },
  "language_info": {
   "codemirror_mode": {
    "name": "ipython",
    "version": 3
   },
   "file_extension": ".py",
   "mimetype": "text/x-python",
   "name": "python",
   "nbconvert_exporter": "python",
   "pygments_lexer": "ipython3",
   "version": "3.7.0"
  }
 },
 "nbformat": 4,
 "nbformat_minor": 2
}
